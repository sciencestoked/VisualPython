{
 "cells": [
  {
   "cell_type": "code",
   "execution_count": null,
   "id": "78f54338",
   "metadata": {},
   "outputs": [],
   "source": [
    "from vpython import *"
   ]
  },
  {
   "cell_type": "code",
   "execution_count": null,
   "id": "c6cf8fad",
   "metadata": {},
   "outputs": [],
   "source": [
    "sidelen = 6\n",
    "var1=sidelen*sqrt(3)/2\n",
    "\n",
    "ball_1 = sphere(radius=1,pos=vector(0,0,0),color=color.green)\n",
    "ball_2 = sphere(radius=1,pos=vector(var1,sidelen/2,0),color=color.blue)\n",
    "ball_3 = sphere(radius=1,pos=vector(var1,-sidelen/2,0),color=color.red)\n",
    "\n",
    "a1 = arrow(pos = ball_1.pos, axis = ball_3.pos - ball_1.pos)\n",
    "a2 = arrow(pos = ball_2.pos, axis = ball_1.pos - ball_2.pos)\n",
    "a3 = arrow(pos = ball_3.pos, axis = ball_2.pos - ball_3.pos)\n",
    "\n",
    "\n",
    "\n",
    "while True:\n",
    "    rate(10)\n",
    "    ball_1.pos.x+=0.1\n",
    "    ball_2.pos.y+=0.1\n",
    "    ball_3.pos.z+=0.1\n",
    "    a1.pos = ball_1.pos\n",
    "    a2.pos = ball_2.pos\n",
    "    a3.pos = ball_3.pos\n",
    "    a1.axis = (ball_3.pos - ball_1.pos)\n",
    "    a2.axis = ball_1.pos - ball_2.pos\n",
    "    a3.axis = ball_2.pos - ball_3.pos\n",
    "    \n",
    "    a1.axis = ball_3.pos - ball_1.pos\n",
    "    a2.axis = ball_1.pos - ball_2.pos\n",
    "    a3.axis = ball_2.pos - ball_3.pos"
   ]
  }
 ],
 "metadata": {
  "kernelspec": {
   "display_name": "Python 3 (ipykernel)",
   "language": "python",
   "name": "python3"
  },
  "language_info": {
   "codemirror_mode": {
    "name": "ipython",
    "version": 3
   },
   "file_extension": ".py",
   "mimetype": "text/x-python",
   "name": "python",
   "nbconvert_exporter": "python",
   "pygments_lexer": "ipython3",
   "version": "3.10.4"
  }
 },
 "nbformat": 4,
 "nbformat_minor": 5
}
